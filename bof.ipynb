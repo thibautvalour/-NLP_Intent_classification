{
  "cells": [
    {
      "cell_type": "code",
      "execution_count": null,
      "metadata": {
        "id": "Z7QaIIqFi7nQ"
      },
      "outputs": [],
      "source": [
        "!pip install datasets tokenizers transformers"
      ]
    },
    {
      "cell_type": "code",
      "execution_count": null,
      "metadata": {
        "id": "22WXCSDri7nS"
      },
      "outputs": [],
      "source": [
        "import torch\n",
        "import torch.nn as nn\n",
        "import torch.nn.functional as F\n",
        "from torch.utils.data import DataLoader\n",
        "from transformers import BertTokenizer, BertForSequenceClassification\n",
        "from transformers import get_linear_schedule_with_warmup\n",
        "import datasets\n",
        "from datasets import load_dataset\n",
        "from sklearn.metrics import accuracy_score\n",
        "from tqdm import tqdm\n",
        "\n",
        "device = torch.device(\"cuda\" if torch.cuda.is_available() else \"cpu\")\n",
        "print('device :', device)"
      ]
    },
    {
      "cell_type": "code",
      "execution_count": null,
      "metadata": {
        "id": "UzIv5tRLi7nT"
      },
      "outputs": [],
      "source": [
        "dataset_train , dataset_test = load_dataset(\"silicone\",\"dyda_da\",split=['train[:100%]','test[:100%]'])\n",
        "dataset = datasets.DatasetDict({\"train\" : dataset_train,\"test\":dataset_test})\n",
        "dataset = dataset.rename_column(\"Label\", \"labels\")\n",
        "dataset = dataset.rename_column(\"Utterance\", \"text\")\n",
        "idx2label = {idx:label for idx, label in enumerate(dataset['train'].features['labels'].names)}\n",
        "idx2label"
      ]
    },
    {
      "cell_type": "code",
      "execution_count": null,
      "metadata": {
        "id": "TqK0qTGei7nT"
      },
      "outputs": [],
      "source": [
        "def preprocess(data):\n",
        "    tokenized_text = tokenizer(data['text'], padding=True, truncation=True, max_length=64)\n",
        "    tokenized_text['labels'] = data['labels']\n",
        "    return tokenized_text\n",
        "\n",
        "tokenizer = BertTokenizer.from_pretrained('bert-base-uncased')\n",
        "encoded_dataset = dataset.map(preprocess, batched=True, \n",
        "                              remove_columns=['Dialogue_Act','Dialogue_ID','Idx'])\n",
        "encoded_dataset.set_format(\"torch\")"
      ]
    },
    {
      "cell_type": "code",
      "execution_count": null,
      "metadata": {
        "id": "3epSyyMFi7nU"
      },
      "outputs": [],
      "source": [
        "model = BertForSequenceClassification.from_pretrained(\n",
        "    \"bert-base-uncased\",\n",
        "    num_labels = 4, \n",
        "    output_attentions = False, \n",
        "    output_hidden_states = False,\n",
        ")"
      ]
    },
    {
      "cell_type": "code",
      "source": [
        "# Freeze all layers\n",
        "for param in model.parameters():\n",
        "    param.requires_grad = False\n",
        "\n",
        "# Unfreeze the last layer\n",
        "for param in model.bert.encoder.layer[-1:].parameters():\n",
        "    param.requires_grad = True"
      ],
      "metadata": {
        "id": "w7TASulxjz0g"
      },
      "execution_count": null,
      "outputs": []
    },
    {
      "cell_type": "markdown",
      "metadata": {
        "id": "ys7qv5fOi7nU"
      },
      "source": [
        "## Check parameters"
      ]
    },
    {
      "cell_type": "code",
      "execution_count": null,
      "metadata": {
        "id": "LqufNTmsi7nV"
      },
      "outputs": [],
      "source": [
        "# Get all of the model's parameters as a list of tuples.\n",
        "model.named_parameters()\n",
        "\n",
        "total_n_weights = sum(list(map(lambda param: param[1].flatten().size()[0], model.named_parameters())))\n",
        "trainable_weights = sum(list(map(lambda param:\n",
        "                                 param.flatten().size()[0] if param.requires_grad\n",
        "                                 else 0, model.parameters())))\n",
        "\n",
        "print('Total weights:', total_n_weights)\n",
        "print('Trainable weights:', trainable_weights)\n",
        "\n",
        "params = list(model.named_parameters())\n",
        "print('\\nThe BERT model has {:} different named parameters.\\n'.format(len(params)))\n",
        "print('==== Embedding Layer ====\\n')\n",
        "for p in params[0:5]:\n",
        "    print(\"{:<55} {:>12}\".format(p[0], str(tuple(p[1].size()))))\n",
        "print('\\n==== First Transformer ====\\n')\n",
        "for p in params[5:21]:\n",
        "    print(\"{:<55} {:>12}\".format(p[0], str(tuple(p[1].size()))))\n",
        "print('\\n==== Output Layer ====\\n')\n",
        "for p in params[-4:]:\n",
        "    print(\"{:<55} {:>12}\".format(p[0], str(tuple(p[1].size()))))"
      ]
    },
    {
      "cell_type": "code",
      "execution_count": null,
      "metadata": {
        "id": "TxZkLElhi7nW"
      },
      "outputs": [],
      "source": [
        "args = {\n",
        "    'batch_size': 8,\n",
        "    'epochs': 5,\n",
        "    'learning_rate': 2e-5,\n",
        "    'warmup_steps': 500,\n",
        "    'epsilon': 1e-8,\n",
        "}"
      ]
    },
    {
      "cell_type": "code",
      "execution_count": null,
      "metadata": {
        "id": "uU7YNmsMi7nX"
      },
      "outputs": [],
      "source": [
        "# load data\n",
        "train_data = encoded_dataset['train']\n",
        "test_data = encoded_dataset['test']\n",
        "train_loader = DataLoader(train_data, batch_size=args['batch_size'], shuffle=True)\n",
        "test_loader = DataLoader(test_data, batch_size=args['batch_size'])\n",
        "\n",
        "# define optimizer and scheduler\n",
        "optimizer = torch.optim.AdamW(model.parameters(), lr=args['learning_rate'], eps=args['epsilon'])\n",
        "total_steps = len(train_loader) * args['epochs']\n",
        "scheduler = get_linear_schedule_with_warmup(optimizer, num_warmup_steps=args['warmup_steps'],\n",
        "                                             num_training_steps=total_steps)\n",
        "\n",
        "# define loss function\n",
        "loss_fn = torch.nn.CrossEntropyLoss()"
      ]
    },
    {
      "cell_type": "code",
      "execution_count": null,
      "metadata": {
        "id": "_i_odWKmi7nY"
      },
      "outputs": [],
      "source": [
        "# define training loop\n",
        "def train_loop(model, data_loader, optimizer, scheduler, loss_fn):\n",
        "    model.train()\n",
        "    losses = []\n",
        "    for batch in tqdm(data_loader, desc=\"Training\", leave=False):\n",
        "        input_ids = batch['input_ids'].to(device)\n",
        "        token_type_ids = batch['token_type_ids'].to(device)\n",
        "        attention_mask = batch['attention_mask'].to(device)\n",
        "        labels = batch['labels'].to(device)\n",
        "\n",
        "        optimizer.zero_grad()\n",
        "        outputs = model(input_ids, token_type_ids, attention_mask)\n",
        "        logits = outputs['logits']\n",
        "        loss = loss_fn(logits, labels)\n",
        "        losses.append(loss.item())\n",
        "        loss.backward()\n",
        "        torch.nn.utils.clip_grad_norm_(model.parameters(), max_norm=1.0)\n",
        "        optimizer.step()\n",
        "        scheduler.step()\n",
        "\n",
        "    avg_loss = sum(losses) / len(losses)\n",
        "    return avg_loss\n",
        "\n",
        "# define evaluation function\n",
        "def evaluate(model, data_loader):\n",
        "    model.eval()\n",
        "    predictions = []\n",
        "    true_labels = []\n",
        "    with torch.no_grad():\n",
        "        for batch in tqdm(data_loader, desc=\"Evaluating\", leave=False):\n",
        "            input_ids = batch['input_ids'].to(device)\n",
        "            token_type_ids = batch['token_type_ids'].to(device)\n",
        "            attention_mask = batch['attention_mask'].to(device)\n",
        "            labels = batch['labels'].to(device)\n",
        "\n",
        "            outputs = model(input_ids, token_type_ids, attention_mask)\n",
        "            logits = outputs['logits']\n",
        "            _, predicted = torch.max(logits, 1)\n",
        "\n",
        "            predictions.extend(predicted.tolist())\n",
        "            true_labels.extend(labels.tolist())\n",
        "\n",
        "    return accuracy_score(true_labels, predictions)"
      ]
    },
    {
      "cell_type": "code",
      "execution_count": null,
      "metadata": {
        "id": "bk0ULuwdi7nb"
      },
      "outputs": [],
      "source": [
        "# train the model\n",
        "device = torch.device(\"cuda\" if torch.cuda.is_available() else \"cpu\")\n",
        "model.to(device)\n",
        "\n",
        "# Train the model\n",
        "for epoch in range(args['epochs']):\n",
        "    train_loss = train_loop(model, train_loader, optimizer, scheduler, loss_fn)\n",
        "    test_acc = evaluate(model, test_loader)\n",
        "    print(f'Epoch {epoch + 1}/{args[\"epochs\"]} - Train loss: {train_loss:.3f} - Test accuracy: {test_acc:.3f}')"
      ]
    }
  ],
  "metadata": {
    "kernelspec": {
      "display_name": "venv",
      "language": "python",
      "name": "python3"
    },
    "language_info": {
      "codemirror_mode": {
        "name": "ipython",
        "version": 3
      },
      "file_extension": ".py",
      "mimetype": "text/x-python",
      "name": "python",
      "nbconvert_exporter": "python",
      "pygments_lexer": "ipython3",
      "version": "3.9.13"
    },
    "orig_nbformat": 4,
    "colab": {
      "provenance": []
    },
    "accelerator": "GPU",
    "gpuClass": "standard"
  },
  "nbformat": 4,
  "nbformat_minor": 0
}