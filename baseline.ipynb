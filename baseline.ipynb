{
 "cells": [
  {
   "cell_type": "code",
   "execution_count": null,
   "metadata": {},
   "outputs": [],
   "source": [
    "# !pip install datasets tokenizers transformers\n",
    "\n",
    "import numpy as np\n",
    "import torch\n",
    "from torch.utils.data import DataLoader\n",
    "from transformers import BertTokenizer, BertForSequenceClassification\n",
    "from transformers import get_linear_schedule_with_warmup\n",
    "import datasets\n",
    "from datasets import load_dataset\n",
    "from sklearn.metrics import accuracy_score\n",
    "from tqdm import tqdm\n",
    "\n",
    "device = torch.device(\"cuda\" if torch.cuda.is_available() else \"cpu\")\n",
    "print('device :', device)"
   ]
  },
  {
   "cell_type": "code",
   "execution_count": null,
   "metadata": {},
   "outputs": [],
   "source": [
    "# Define all the parameters\n",
    "args = {\n",
    "    'batch_size': 8,\n",
    "    'epochs': 5,\n",
    "    'learning_rate': 2e-5,\n",
    "    'warmup_steps': 500,\n",
    "    'epsilon': 1e-8,\n",
    "    'dataset_percentage': '10%',\n",
    "    'unfreezed_bert_layers': 3,\n",
    "}"
   ]
  },
  {
   "attachments": {},
   "cell_type": "markdown",
   "metadata": {},
   "source": [
    "## Load and format the dataset"
   ]
  },
  {
   "cell_type": "code",
   "execution_count": null,
   "metadata": {},
   "outputs": [],
   "source": [
    "dataset_train , dataset_test = load_dataset(\"silicone\",\"dyda_da\",split=[f\"train[:{args['dataset_percentage']}]\",\n",
    "                                                                        f\"test[:{args['dataset_percentage']}]\"])\n",
    "dataset = datasets.DatasetDict({\"train\" : dataset_train,\"test\":dataset_test})\n",
    "dataset = dataset.rename_column(\"Label\", \"labels\")\n",
    "dataset = dataset.rename_column(\"Utterance\", \"text\")\n",
    "idx2label = {idx:label for idx, label in enumerate(dataset['train'].features['labels'].names)}\n",
    "idx2label"
   ]
  },
  {
   "cell_type": "code",
   "execution_count": null,
   "metadata": {},
   "outputs": [],
   "source": [
    "def preprocess(data):\n",
    "    tokenized_text = tokenizer(data['text'], padding=True, truncation=True, max_length=32)\n",
    "    tokenized_text['labels'] = data['labels']\n",
    "    return tokenized_text\n",
    "\n",
    "tokenizer = BertTokenizer.from_pretrained('bert-base-cased')\n",
    "encoded_dataset = dataset.map(preprocess, batched=True, \n",
    "                              remove_columns=['Dialogue_Act','Dialogue_ID','Idx'])\n",
    "encoded_dataset.set_format(\"torch\")"
   ]
  },
  {
   "cell_type": "code",
   "execution_count": null,
   "metadata": {},
   "outputs": [],
   "source": [
    "train_data = encoded_dataset['train']\n",
    "test_data = encoded_dataset['test']\n",
    "train_loader = DataLoader(train_data, batch_size=args['batch_size'], shuffle=True)\n",
    "test_loader = DataLoader(test_data, batch_size=args['batch_size'])"
   ]
  },
  {
   "attachments": {},
   "cell_type": "markdown",
   "metadata": {},
   "source": [
    "## Load the model"
   ]
  },
  {
   "cell_type": "code",
   "execution_count": null,
   "metadata": {},
   "outputs": [],
   "source": [
    "# Import Bert model\n",
    "model = BertForSequenceClassification.from_pretrained(\n",
    "    \"bert-base-cased\",\n",
    "    num_labels = 4, \n",
    "    output_attentions = False, \n",
    "    output_hidden_states = True\n",
    "    ).to(device)\n",
    "\n",
    "# Freeze all layers\n",
    "for param in model.parameters():\n",
    "    param.requires_grad = False\n",
    "\n",
    "# Unfreeze last layers\n",
    "for param in model.bert.encoder.layer[-args['unfreezed_bert_layers']:].parameters():\n",
    "    param.requires_grad = True\n",
    "\n",
    "model.named_parameters()\n",
    "\n",
    "total_n_weights = sum(list(map(lambda param: param[1].flatten().size()[0], model.named_parameters())))\n",
    "trainable_weights = sum(list(map(lambda param:\n",
    "                                 param.flatten().size()[0] if param.requires_grad\n",
    "                                 else 0, model.parameters())))\n",
    "\n",
    "print('Total weights:', total_n_weights)\n",
    "print('Trainable weights:', trainable_weights)"
   ]
  },
  {
   "attachments": {},
   "cell_type": "markdown",
   "metadata": {},
   "source": [
    "## Define training and evaluation"
   ]
  },
  {
   "cell_type": "code",
   "execution_count": null,
   "metadata": {},
   "outputs": [],
   "source": [
    "# define optimizer, scheduler and loss\n",
    "optimizer = torch.optim.AdamW(model.parameters(), lr=args['learning_rate'], eps=args['epsilon'])\n",
    "total_steps = len(train_loader) * args['epochs']\n",
    "scheduler = get_linear_schedule_with_warmup(optimizer, num_warmup_steps=args['warmup_steps'],\n",
    "                                             num_training_steps=total_steps)\n",
    "loss_fn = torch.nn.CrossEntropyLoss()"
   ]
  },
  {
   "cell_type": "code",
   "execution_count": null,
   "metadata": {},
   "outputs": [],
   "source": [
    "def train_loop(model, data_loader, optimizer, scheduler, loss_fn):\n",
    "    model.train()\n",
    "    losses = []\n",
    "    for batch in tqdm(data_loader, desc=\"Training\",\n",
    "                       leave=True, position=0):\n",
    "        input_ids = batch['input_ids'].to(device)\n",
    "        token_type_ids = batch['token_type_ids'].to(device)\n",
    "        attention_mask = batch['attention_mask'].to(device)\n",
    "        labels = batch['labels'].to(device)\n",
    "\n",
    "        optimizer.zero_grad()\n",
    "        outputs = model(input_ids, token_type_ids, attention_mask)\n",
    "        logits = outputs['logits']\n",
    "        loss = loss_fn(logits, labels)\n",
    "        losses.append(loss.item())\n",
    "        loss.backward()\n",
    "        torch.nn.utils.clip_grad_norm_(model.parameters(), max_norm=1.0)\n",
    "        optimizer.step()\n",
    "        scheduler.step()\n",
    "\n",
    "    avg_loss = sum(losses) / len(losses)\n",
    "    return avg_loss\n",
    "\n",
    "@torch.no_grad()\n",
    "def evaluate(model, data_loader):\n",
    "    model.eval()\n",
    "    predictions = []\n",
    "    true_labels = []\n",
    "    for batch in tqdm(data_loader, desc=\"Evaluating\",\n",
    "                      leave=True, position=0):\n",
    "        input_ids = batch['input_ids'].to(device)\n",
    "        token_type_ids = batch['token_type_ids'].to(device)\n",
    "        attention_mask = batch['attention_mask'].to(device)\n",
    "        labels = batch['labels'].to(device)\n",
    "\n",
    "        outputs = model(input_ids, token_type_ids, attention_mask)\n",
    "        logits = outputs['logits']\n",
    "        _, predicted = torch.max(logits, 1)\n",
    "\n",
    "        predictions.extend(predicted.tolist())\n",
    "        true_labels.extend(labels.tolist())\n",
    "\n",
    "    return accuracy_score(true_labels, predictions)"
   ]
  },
  {
   "attachments": {},
   "cell_type": "markdown",
   "metadata": {},
   "source": [
    "## Run training"
   ]
  },
  {
   "cell_type": "code",
   "execution_count": null,
   "metadata": {},
   "outputs": [],
   "source": [
    "# Train the model\n",
    "for epoch in range(args['epochs']):\n",
    "    train_loss = train_loop(model, train_loader, optimizer, scheduler, loss_fn)\n",
    "    test_acc = evaluate(model, test_loader)\n",
    "    print(f'Epoch {epoch + 1}/{args[\"epochs\"]} - Train loss: {train_loss:.3f} - Test accuracy: {test_acc:.3f}')"
   ]
  },
  {
   "cell_type": "code",
   "execution_count": null,
   "metadata": {},
   "outputs": [],
   "source": []
  }
 ],
 "metadata": {
  "kernelspec": {
   "display_name": "venv",
   "language": "python",
   "name": "python3"
  },
  "language_info": {
   "codemirror_mode": {
    "name": "ipython",
    "version": 3
   },
   "file_extension": ".py",
   "mimetype": "text/x-python",
   "name": "python",
   "nbconvert_exporter": "python",
   "pygments_lexer": "ipython3",
   "version": "3.9.13"
  },
  "orig_nbformat": 4
 },
 "nbformat": 4,
 "nbformat_minor": 2
}
